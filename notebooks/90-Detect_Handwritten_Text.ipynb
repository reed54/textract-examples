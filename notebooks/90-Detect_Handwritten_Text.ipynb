{
 "cells": [
  {
   "cell_type": "markdown",
   "metadata": {},
   "source": [
    "# Amazon Textract\n",
    "### Extracting Text from Handwritten Letters\n",
    "\n",
    "**Based on AWS Github Account:**  https://github.com/aws-samples  \n",
    "**File:** aws-samples/amazon-textractcode-samples/**01-detect-text-locL.py**\n",
    "\n",
    "![Amazon](https://media.gettyimages.com/photos/closeup-of-sign-with-logo-on-facade-of-the-regional-headquarters-of-picture-id1065011338?s=2048x2048)."
   ]
  },
  {
   "cell_type": "markdown",
   "metadata": {},
   "source": [
    "#### Import AWS API Library (boto3)"
   ]
  },
  {
   "cell_type": "code",
   "execution_count": 1,
   "metadata": {},
   "outputs": [],
   "source": [
    "import boto3"
   ]
  },
  {
   "cell_type": "markdown",
   "metadata": {},
   "source": [
    "---\n",
    "## Letter #1 \n",
    "### Frank Eyde in a letter home December 10, 1941\n",
    "\n",
    "### Transcription of Original "
   ]
  },
  {
   "cell_type": "markdown",
   "metadata": {},
   "source": [
    "The full text, reference [Frank Eyde in a letter home\n",
    "Dec. 10, 1941](https://www.washingtonpost.com/graphics/2017/national/world-war-two-letters/):\n",
    "\n",
    "I received your charming letter John and Sanford of the 8th.I heard there will be no more air mail letters sent, I don’t know but I am sending this one airmail on 10th so you can tell when it comes to send only telegrams and 3¢ stamps on letters from now on. I am well pleased with your fine letters, too bad that Ralph’s leave from Camp Ord was cancelled as we will have our hands full now to protect America from invasion. We have been called out on air raid alarms the last few days, but you know as much about what was happening as I do, the radio is the only dope we get as well as you about them Japs and nasty Germans. Bastards are what they are, raiding without warnings, sneaking up at night and such wrong methods of a clean fight. They don’t know how to fight clean. John, you must have had a swell time in Chicago shopping as well as seeing the sights – over Yes, I will be able to handle myself against those forces which try to sneak upon us. Ralph has not been away from home so long and the Films of both of us taken in L.A. are something to keep. John there’s always a chance for you anyplace you want to go. You are a good mechanic and they always need good men for defense jobs. Well John my part so far has been coast defense as San Diego is always close for invasion and we are all armed at all times for action at any place any time. I am well and healthy and feel just fine, smiling and enjoying the rain we just have had. Camp is now a lake and water and mud don’t mix. Thanks for your swell thoughts and I know we will all stick together in this war to the end. If you don’t hear from me -- don’t you worry. We can’t tell you when we leave, so if no mail comes you will have known I have been sent someplace. You can write me and I will receive your mail though. Dear Musha: Glad to know you are all right and always thinking of me as I am of all of you. I sent Sigie 20.00 M.O. on loan and hope he gets it safe. I thank you for the two dollars and tell you I am getting enough money now so please use it for home repairs and the hot water in the house for my little Musha needs such. Love and Keep Smiling – Frank. Dear Dad: Ain’t it the truth we study the war news over the radio and there’s 100 nations in this war. I hope you will keep up your good work at the factory and see that Musha takes things easy. Dear Sanford: So you spent 20.00 shopping and had a good time buying yourself things you wanted. Yes I will follow Elect. and always thinking of you and our baseball days together. I will say Sigie: Your letters are so good I have to read them over and over and always enjoy them. So when I send one it is always short and cold but your English has been much better than mine. We are now in the Barricks at Camp and has fine sleeping Quarters. We have a lot of rushing lately never knowing when we will get the call to leave. I am at present getting ready for chow so I must close with Happy Thoughts of you and the gang. As ever, your Sank, The Salesman Frank."
   ]
  },
  {
   "cell_type": "markdown",
   "metadata": {},
   "source": [
    "## Page 1\n",
    "![Page 1](../data/letter_page_1.png)"
   ]
  },
  {
   "cell_type": "markdown",
   "metadata": {},
   "source": [
    "## Textract Results"
   ]
  },
  {
   "cell_type": "code",
   "execution_count": 4,
   "metadata": {},
   "outputs": [],
   "source": [
    "# Document\n",
    "documentName = \"../data/letter_page_1_contrast.png\"\n",
    "\n",
    "# Read document content\n",
    "with open(documentName, 'rb') as document:\n",
    "    imageBytes = bytearray(document.read())\n",
    "\n",
    "#### Instantiate Textract Client\n",
    "\n",
    "# Amazon Textract client\n",
    "textract = boto3.client('textract')\n",
    "\n",
    "#### Call Textract Service and Print the Results\n",
    "\n",
    "As you will see, the text it displayed without organization.  In our next example, we'll read this same document and find the tables.\n",
    "\n",
    "# Call Amazon Textract\n",
    "response = textract.detect_document_text(Document={'Bytes': imageBytes})\n",
    "\n",
    "# print(response)\n",
    "\n",
    "# Print detected text\n",
    "for item in response[\"Blocks\"]:\n",
    "    if item[\"BlockType\"] == \"LINE\":\n",
    "        print('\\033[94m' + item[\"Text\"] + '\\033[0m')"
   ]
  },
  {
   "cell_type": "markdown",
   "metadata": {},
   "source": [
    "## Page 2\n",
    "![Page 2](../data/letter_page_2.png)"
   ]
  },
  {
   "cell_type": "code",
   "execution_count": 5,
   "metadata": {},
   "outputs": [
    {
     "name": "stdout",
     "output_type": "stream",
     "text": [
      "\u001b[94mM\u001b[0m\n",
      "\u001b[94mupon us. Relph has not beehe\u001b[0m\n",
      "\u001b[94mYoury there force which ,Fry to sneek\u001b[0m\n",
      "\u001b[94md will be able to handle myself\u001b[0m\n",
      "\u001b[94mfrom home so long and the vidualy\u001b[0m\n",
      "\u001b[94mchanck sh you anyplace you and\u001b[0m\n",
      "\u001b[94mthing John theres always wont a\u001b[0m\n",
      "\u001b[94mboth of us takes in LA, are some-\u001b[0m\n",
      "\u001b[94mto go, are a glid mechine\u001b[0m\n",
      "\u001b[94mjolk, jeell John my part so for\u001b[0m\n",
      "\u001b[94mneed good men for deference\u001b[0m\n",
      "\u001b[94mhas been coast defenge as sharge\u001b[0m\n",
      "\u001b[94mis always close for clivasion and\u001b[0m\n",
      "\u001b[94mwe are dll armed at all times\u001b[0m\n",
      "\u001b[94mfor action at any pleeday and time\u001b[0m\n",
      "\u001b[94mcl am well and\u001b[0m\n",
      "\u001b[94mfeel just fine Smiting ,and enjoying\u001b[0m\n",
      "\u001b[94mthe Mam we just have had. Camp\u001b[0m\n",
      "\u001b[94mis grow a likey and\u001b[0m\n",
      "\u001b[94mswell thoughte and P know-we\u001b[0m\n",
      "\u001b[94mmud dort mi for your\u001b[0m\n",
      "\u001b[94mwill all stick together in this\u001b[0m\n",
      "\u001b[94mfrom me we can't\u001b[0m\n",
      "\u001b[94mWar to the end If you don't hear\u001b[0m\n",
      "\u001b[94mbell you no mail comes\u001b[0m\n"
     ]
    }
   ],
   "source": [
    "# Document\n",
    "documentName = \"../data/letter_page_2.png\"\n",
    "\n",
    "# Read document content\n",
    "with open(documentName, 'rb') as document:\n",
    "    imageBytes = bytearray(document.read())\n",
    "\n",
    "# Amazon Textract client\n",
    "textract = boto3.client('textract')\n",
    "\n",
    "# Call Amazon Textract\n",
    "response = textract.detect_document_text(Document={'Bytes': imageBytes})\n",
    "\n",
    "# print(response)\n",
    "\n",
    "# Print detected text\n",
    "for item in response[\"Blocks\"]:\n",
    "    if item[\"BlockType\"] == \"LINE\":\n",
    "        print('\\033[94m' + item[\"Text\"] + '\\033[0m')"
   ]
  },
  {
   "cell_type": "markdown",
   "metadata": {},
   "source": [
    "## Page 3\n",
    "\n",
    "![Page 3](../data/letter_page_3.png)"
   ]
  },
  {
   "cell_type": "code",
   "execution_count": 7,
   "metadata": {
    "jupyter": {
     "source_hidden": true
    }
   },
   "outputs": [
    {
     "name": "stdout",
     "output_type": "stream",
     "text": [
      "\u001b[94m3/4 you will have known I have been sent\u001b[0m\n",
      "\u001b[94mwrite me and e will\u001b[0m\n",
      "\u001b[94mreceive your though\u001b[0m\n",
      "\u001b[94mall night and always thinking gome\u001b[0m\n",
      "\u001b[94mDear M usher's rlad O know you are\u001b[0m\n",
      "\u001b[94m20.00 m, O. on\u001b[0m\n",
      "\u001b[94mas I Jam of all Referent\u001b[0m\n",
      "\u001b[94mwt safe I thank you for the Two\u001b[0m\n",
      "\u001b[94menough now so use\u001b[0m\n",
      "\u001b[94mdollars and tell you A am\u001b[0m\n",
      "\u001b[94mit to repaine righ\u001b[0m\n",
      "\u001b[94minl such. house fymyle little mushe needs\u001b[0m\n",
      "\u001b[94mKeep Smiling Julk\u001b[0m\n",
      "\u001b[94mDear Dad:\u001b[0m\n",
      "\u001b[94mant it the truth we Widy\u001b[0m\n",
      "\u001b[94mthe w or news over the radional\u001b[0m\n",
      "\u001b[94mtheir 100 nations in this war, I\u001b[0m\n",
      "\u001b[94mhope you will keep up that youry musha good Work\u001b[0m\n",
      "\u001b[94mat the Factory and see\u001b[0m\n",
      "\u001b[94mtakes thing every.\u001b[0m\n",
      "\u001b[94mDear Senford: So you spint time 20. 00\u001b[0m\n",
      "\u001b[94myour things you yes Twill\u001b[0m\n",
      "\u001b[94mand had a Wanted good baying\u001b[0m\n",
      "\u001b[94mfollow Electh always thilling of\u001b[0m\n",
      "\u001b[94myou and our baceball deep Zondle\u001b[0m\n"
     ]
    }
   ],
   "source": [
    "# Document\n",
    "documentName = \"../data/letter_page_3.png\"\n",
    "\n",
    "# Read document content\n",
    "with open(documentName, 'rb') as document:\n",
    "    imageBytes = bytearray(document.read())\n",
    "\n",
    "# Amazon Textract client\n",
    "textract = boto3.client('textract')\n",
    "\n",
    "# Call Amazon Textract\n",
    "response = textract.detect_document_text(Document={'Bytes': imageBytes})\n",
    "\n",
    "# print(response)\n",
    "\n",
    "# Print detected text\n",
    "for item in response[\"Blocks\"]:\n",
    "    if item[\"BlockType\"] == \"LINE\":\n",
    "        print('\\033[94m' + item[\"Text\"] + '\\033[0m')"
   ]
  },
  {
   "cell_type": "markdown",
   "metadata": {},
   "source": [
    "---\n",
    "## Letter #2 The Battle of Tulagi"
   ]
  },
  {
   "cell_type": "markdown",
   "metadata": {},
   "source": [
    "## Transcript of The Battle of Tulagi\n",
    "\n",
    "\n",
    "#### Frank writes John\n",
    "#### Thurs. Aug. 20, 1942\n",
    "\n",
    "“What I saw I will never forget. I was on a guncrew that shot down a Jap bomber coming right at us about 20 feet off the water and about 25 feet from our boat. In all, our ship shot down five bombers coming right close to the ship, trying to crash into it.”\n",
    "\n",
    "![Page 3](../data/letter_the_battle_of_tulagi.png)\n",
    "\n",
    "#### Transcript:  From Frank to family on Sept. 4, 1942, island on the Pacific\n",
    "\n",
    "Dear mother,\n",
    "\n",
    "I thought I would write you a few lines and tell you some things which we are able too. There are quite a lot of things we cannot mention. I am doing fine and feel all right. We have guard tonight and have had quite a few hikes to keep in condition. I can’t say much about the Island outside of that it is not so bad and has plenty of advantages for our protection. I went to church here at camp and enjoyed the outdoor sermon. We train to keep in shape and when they need us to do a job we will be ready. It’s good training here as all our fighting will be done in the same kind of islands. I have been going to some school on some valuable subjects. It looks like we are in a good way toward victory after destroying most of the Jap Navy and planes. If everything goes ok we will get leave by Christmas maybe. Musha, I know you will take care of yourself and not worry over anything. I really enjoy the island and as we are kept busy all the time we have quite a few books and movies to keep us happy. The football and baseball games and swimming. Always thinking of you and the boys. I hear the news every evening over radio."
   ]
  },
  {
   "cell_type": "markdown",
   "metadata": {},
   "source": [
    "## Textract Results"
   ]
  },
  {
   "cell_type": "code",
   "execution_count": 8,
   "metadata": {},
   "outputs": [
    {
     "name": "stdout",
     "output_type": "stream",
     "text": [
      "\u001b[94mDear Mother:.\u001b[0m\n",
      "\u001b[94msept. 4th, 42\u001b[0m\n",
      "\u001b[94mI thought el would write you g few Ulland on\u001b[0m\n",
      "\u001b[94mthe\u001b[0m\n",
      "\u001b[94mlines and tellyou some thirgs which Pacific.\u001b[0m\n",
      "\u001b[94mall right we have Guard toright and have\u001b[0m\n",
      "\u001b[94mwe cannot mention. l am dring fine and fid\u001b[0m\n",
      "\u001b[94mwe are afle tools There are guite dot of things\u001b[0m\n",
      "\u001b[94mhad quite afew hikes to keep in condition.\u001b[0m\n",
      "\u001b[94mI can't say much about the Illand outsigle of\u001b[0m\n",
      "\u001b[94mthat it is not so bad and has plentysis outerigle of\u001b[0m\n",
      "\u001b[94madvantages fn our protection: d\u001b[0m\n",
      "\u001b[94mdoor seymon, when We train to keep in shape\u001b[0m\n",
      "\u001b[94mchurch here at Camp and enjoyed the out-\u001b[0m\n",
      "\u001b[94msame as kind our have been can going the\u001b[0m\n",
      "\u001b[94mwill all he realy its good thinging here\u001b[0m\n",
      "\u001b[94mand thigy need us to blo a Lob we\u001b[0m\n",
      "\u001b[94mto some school on some valuable subjects.\u001b[0m\n",
      "\u001b[94mvictory ofter destroying most of the Jap navy\u001b[0m\n",
      "\u001b[94mlt looks like we are in a good way toward\u001b[0m\n",
      "\u001b[94mget a leave by Christmes well-take maythe\u001b[0m\n",
      "\u001b[94mand claves. of everything qoes O'K' we will\u001b[0m\n",
      "\u001b[94mself and not monry you anything yl really\u001b[0m\n",
      "\u001b[94mm ushe sll know care of your\u001b[0m\n",
      "\u001b[94menjote time we have quite a few books\u001b[0m\n",
      "\u001b[94mthe deland and as we are kept busy\u001b[0m\n",
      "\u001b[94mand movils Baseball to keep us happy the Fortbell\u001b[0m\n",
      "\u001b[94mnews thinking every of you evening gainey over the radic.\u001b[0m\n",
      "\u001b[94mand\u001b[0m\n",
      "\u001b[94mand\u001b[0m\n"
     ]
    }
   ],
   "source": [
    "# Document\n",
    "documentName = \"../data/letter_the_battle_of_tulagi.png\"\n",
    "\n",
    "# Read document content\n",
    "with open(documentName, 'rb') as document:\n",
    "    imageBytes = bytearray(document.read())\n",
    "\n",
    "# Amazon Textract client\n",
    "textract = boto3.client('textract')\n",
    "\n",
    "# Call Amazon Textract\n",
    "response = textract.detect_document_text(Document={'Bytes': imageBytes})\n",
    "\n",
    "# print(response)\n",
    "\n",
    "# Print detected text\n",
    "for item in response[\"Blocks\"]:\n",
    "    if item[\"BlockType\"] == \"LINE\":\n",
    "        print('\\033[94m' + item[\"Text\"] + '\\033[0m')"
   ]
  },
  {
   "cell_type": "code",
   "execution_count": null,
   "metadata": {},
   "outputs": [],
   "source": []
  }
 ],
 "metadata": {
  "kernelspec": {
   "display_name": "Python (py38)",
   "language": "python",
   "name": "py38"
  },
  "language_info": {
   "codemirror_mode": {
    "name": "ipython",
    "version": 3
   },
   "file_extension": ".py",
   "mimetype": "text/x-python",
   "name": "python",
   "nbconvert_exporter": "python",
   "pygments_lexer": "ipython3",
   "version": "3.8.5"
  }
 },
 "nbformat": 4,
 "nbformat_minor": 4
}
