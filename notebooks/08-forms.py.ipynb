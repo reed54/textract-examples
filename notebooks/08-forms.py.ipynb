{
 "cells": [
  {
   "cell_type": "markdown",
   "metadata": {},
   "source": [
    "# Amazon Textract\n",
    "### Forms\n",
    "\n",
    "**Based on AWS Github Account:**  https://github.com/aws-samples  \n",
    "**File:** aws-samples/amazon-textractcode-samples/**08-forms.py**\n",
    "\n",
    "![Amazon](https://media.gettyimages.com/photos/closeup-of-sign-with-logo-on-facade-of-the-regional-headquarters-of-picture-id1065011338?s=2048x2048)\n",
    "\n",
    "#### Sample Form\n",
    "![Form](../data/form_with_handwritten_notes.png)"
   ]
  },
  {
   "cell_type": "code",
   "execution_count": 13,
   "metadata": {},
   "outputs": [],
   "source": [
    "import boto3\n",
    "from trp import Document"
   ]
  },
  {
   "cell_type": "code",
   "execution_count": 14,
   "metadata": {},
   "outputs": [],
   "source": [
    "# Document\n",
    "s3BucketName = \"jdreed-hadley\"\n",
    "documentName = \"form_with_handwritten_notes.png\""
   ]
  },
  {
   "cell_type": "markdown",
   "metadata": {},
   "source": [
    "### Retrieve document from S3"
   ]
  },
  {
   "cell_type": "code",
   "execution_count": 15,
   "metadata": {},
   "outputs": [],
   "source": [
    "# Amazon Textract client\n",
    "textract = boto3.client('textract')\n",
    "\n",
    "# Call Amazon Textract\n",
    "response = textract.analyze_document(\n",
    "    Document={\n",
    "        'S3Object': {\n",
    "            'Bucket': s3BucketName,\n",
    "            'Name': documentName\n",
    "        }\n",
    "    },\n",
    "    FeatureTypes=[\"FORMS\"])\n",
    "\n",
    "#print(response)\n",
    "\n",
    "doc = Document(response)"
   ]
  },
  {
   "cell_type": "markdown",
   "metadata": {},
   "source": [
    "### Read document and search for fields and corresponding information"
   ]
  },
  {
   "cell_type": "code",
   "execution_count": 16,
   "metadata": {},
   "outputs": [
    {
     "name": "stdout",
     "output_type": "stream",
     "text": [
      "Fields:\n",
      "Key: WEB ADDRESS, Value: None\n",
      "Key: CONTACT PERSON, Value: None\n",
      "Key: Bldg, Value: None\n",
      "Key: PHONE, Value: None\n",
      "Key: SPONSOR'S MAILING ADDRESS, Value: P.O. Box 4881 BALT MD 1901 Falls RD BALT MD\n",
      "Key: Address, Value: 1905 falls Rd.\n",
      "Key: TITLE, Value: Riding the Rails\n",
      "Key: ZIP, Value: 21211\n",
      "Key: CATEGORY 21211, Value: gealiformix\n",
      "Key: SPONSOR Balso., Value: Streetcan Museum\n",
      "\n",
      "Get Field by Key:\n",
      "\n",
      "Search Fields:\n",
      "Key: WEB ADDRESS, Value: None\n",
      "Key: SPONSOR'S MAILING ADDRESS, Value: P.O. Box 4881 BALT MD 1901 Falls RD BALT MD\n",
      "Key: Address, Value: 1905 falls Rd.\n"
     ]
    }
   ],
   "source": [
    "for page in doc.pages:\n",
    "    # Print fields\n",
    "    print(\"Fields:\")\n",
    "    for field in page.form.fields:\n",
    "        print(\"Key: {}, Value: {}\".format(field.key, field.value))\n",
    "\n",
    "    # Get field by key\n",
    "    print(\"\\nGet Field by Key:\")\n",
    "    key = \"Phone Number:\"\n",
    "    field = page.form.getFieldByKey(key)\n",
    "    if(field):\n",
    "        print(\"Key: {}, Value: {}\".format(field.key, field.value))\n",
    "\n",
    "    # Search fields by key\n",
    "    print(\"\\nSearch Fields:\")\n",
    "    key = \"address\"\n",
    "    fields = page.form.searchFieldsByKey(key)\n",
    "    for field in fields:\n",
    "        print(\"Key: {}, Value: {}\".format(field.key, field.value))"
   ]
  },
  {
   "cell_type": "code",
   "execution_count": null,
   "metadata": {},
   "outputs": [],
   "source": []
  }
 ],
 "metadata": {
  "kernelspec": {
   "display_name": "Python 3",
   "language": "python",
   "name": "python3"
  },
  "language_info": {
   "codemirror_mode": {
    "name": "ipython",
    "version": 3
   },
   "file_extension": ".py",
   "mimetype": "text/x-python",
   "name": "python",
   "nbconvert_exporter": "python",
   "pygments_lexer": "ipython3",
   "version": "3.7.8"
  }
 },
 "nbformat": 4,
 "nbformat_minor": 4
}
