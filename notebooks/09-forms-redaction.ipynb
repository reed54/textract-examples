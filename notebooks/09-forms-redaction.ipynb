{
 "cells": [
  {
   "cell_type": "markdown",
   "metadata": {},
   "source": [
    "# Amazon Textract\n",
    "### Redacting a Form of Sensitive Information\n",
    "\n",
    "**Based on AWS Github Account:**  https://github.com/aws-samples  \n",
    "**File:** aws-samples/amazon-textractcode-samples/**09-forms-redaction.py**\n",
    "  \n",
    "James Reed, Centennial Data Science\n",
    "\n",
    "![Amazon](https://media.gettyimages.com/photos/closeup-of-sign-with-logo-on-facade-of-the-regional-headquarters-of-picture-id1065011338?s=2048x2048)"
   ]
  },
  {
   "cell_type": "markdown",
   "metadata": {},
   "source": [
    "## Original Form Requiring Redaction\n",
    "\n",
    " * Home Address\n",
    " * Mailing Address\n",
    "![\"Employment Form](../data/employmentapp.png)"
   ]
  },
  {
   "cell_type": "code",
   "execution_count": 1,
   "metadata": {},
   "outputs": [],
   "source": [
    "import boto3\n",
    "from trp import Document\n",
    "from PIL import Image, ImageDraw"
   ]
  },
  {
   "cell_type": "code",
   "execution_count": 6,
   "metadata": {},
   "outputs": [],
   "source": [
    "# Document\n",
    "s3BucketName = \"jdreed-hadley\"\n",
    "documentName = \"employmentapp.png\"\n",
    "\n",
    "# Amazon Textract client\n",
    "textract = boto3.client('textract')\n",
    "\n",
    "# Call Amazon Textract\n",
    "response = textract.analyze_document(\n",
    "    Document={\n",
    "        'S3Object': {\n",
    "            'Bucket': s3BucketName,\n",
    "            'Name': documentName\n",
    "        }\n",
    "    },\n",
    "    FeatureTypes=[\"FORMS\"])\n",
    "\n",
    "#print(response)"
   ]
  },
  {
   "cell_type": "code",
   "execution_count": 7,
   "metadata": {},
   "outputs": [
    {
     "name": "stdout",
     "output_type": "stream",
     "text": [
      "Redacting => Key: Home Address:, Value: 123 Any Street, Any Town, USA\n",
      "Redacting => Key: Mailing Address:, Value: same as home address\n"
     ]
    }
   ],
   "source": [
    "doc = Document(response)\n",
    "\n",
    "# Redact document\n",
    "img = Image.open('../data/' + documentName)\n",
    "\n",
    "width, height = img.size\n",
    "\n",
    "if(doc.pages):\n",
    "    page = doc.pages[0]\n",
    "    for field in page.form.fields:\n",
    "        if(field.key and field.value and \"address\" in field.key.text.lower()):\n",
    "        #if(field.key and field.value):\n",
    "            print(\"Redacting => Key: {}, Value: {}\".format(field.key.text, field.value.text))\n",
    "            \n",
    "            x1 = field.value.geometry.boundingBox.left*width\n",
    "            y1 = field.value.geometry.boundingBox.top*height-2\n",
    "            x2 = x1 + (field.value.geometry.boundingBox.width*width)+5\n",
    "            y2 = y1 + (field.value.geometry.boundingBox.height*height)+2\n",
    "\n",
    "            draw = ImageDraw.Draw(img)\n",
    "            draw.rectangle([x1, y1, x2, y2], fill=\"Black\")\n",
    "\n",
    "img.save(\"redacted-{}\".format(documentName))"
   ]
  },
  {
   "cell_type": "markdown",
   "metadata": {},
   "source": [
    "### Redacted Document\n",
    "\n",
    "![Redacted Document](redacted-employmentapp.png)"
   ]
  },
  {
   "cell_type": "code",
   "execution_count": 1,
   "metadata": {},
   "outputs": [
    {
     "name": "stdout",
     "output_type": "stream",
     "text": [
      "Notebook end: 2021-01-20 14:00:54.048637\n"
     ]
    }
   ],
   "source": [
    "import datetime\n",
    "\n",
    "complete = datetime.datetime.now()\n",
    "print(f'Notebook end: {complete}')"
   ]
  },
  {
   "cell_type": "code",
   "execution_count": null,
   "metadata": {},
   "outputs": [],
   "source": []
  }
 ],
 "metadata": {
  "kernelspec": {
   "display_name": "Python 3",
   "language": "python",
   "name": "python3"
  },
  "language_info": {
   "codemirror_mode": {
    "name": "ipython",
    "version": 3
   },
   "file_extension": ".py",
   "mimetype": "text/x-python",
   "name": "python",
   "nbconvert_exporter": "python",
   "pygments_lexer": "ipython3",
   "version": "3.9.1"
  }
 },
 "nbformat": 4,
 "nbformat_minor": 4
}
