{
 "cells": [
  {
   "cell_type": "markdown",
   "metadata": {},
   "source": [
    "# Amazon Textract\n",
    "### Detecting Tables\n",
    "\n",
    "**Based on AWS Github Account:**  https://github.com/aws-samples  \n",
    "**File:** aws-samples/amazon-textractcode-samples/**10-tables.py**\n",
    "\n",
    "![Amazon](https://media.gettyimages.com/photos/closeup-of-sign-with-logo-on-facade-of-the-regional-headquarters-of-picture-id1065011338?s=2048x2048)\n",
    "\n",
    "## Get Tables from File\n",
    "\n",
    "![Employment Form](../data/employmentapp.png)"
   ]
  },
  {
   "cell_type": "code",
   "execution_count": 1,
   "metadata": {},
   "outputs": [],
   "source": [
    "import boto3\n",
    "from trp import Document"
   ]
  },
  {
   "cell_type": "code",
   "execution_count": 4,
   "metadata": {},
   "outputs": [
    {
     "name": "stdout",
     "output_type": "stream",
     "text": [
      "Table[0][0] = \n",
      "Table[0][1] = \n",
      "Table[0][2] = Previous Employment \n",
      "Table[0][3] = History \n",
      "Table[0][4] = \n",
      "Table[1][0] = Start Date \n",
      "Table[1][1] = End Date \n",
      "Table[1][2] = Employer Name \n",
      "Table[1][3] = Position Held \n",
      "Table[1][4] = Reason for leaving \n",
      "Table[2][0] = 1/15/2009 \n",
      "Table[2][1] = 6/30/2011 \n",
      "Table[2][2] = Any Company \n",
      "Table[2][3] = Assistant Baker \n",
      "Table[2][4] = Family relocated \n",
      "Table[3][0] = 7/1/2011 \n",
      "Table[3][1] = 8/10/2013 \n",
      "Table[3][2] = Best Corp. \n",
      "Table[3][3] = Baker \n",
      "Table[3][4] = Better opportunity \n",
      "Table[4][0] = 8/15/2013 \n",
      "Table[4][1] = present \n",
      "Table[4][2] = Example Corp. \n",
      "Table[4][3] = Head Baker \n",
      "Table[4][4] = N/A, current employer \n"
     ]
    }
   ],
   "source": [
    "# Document\n",
    "s3BucketName = \"jdreed-hadley\"\n",
    "documentName = \"employmentapp.png\"\n",
    "\n",
    "# Amazon Textract client\n",
    "textract = boto3.client('textract')\n",
    "\n",
    "# Call Amazon Textract\n",
    "response = textract.analyze_document(\n",
    "    Document={'S3Object': {'Bucket': s3BucketName, 'Name': documentName}}, \n",
    "    FeatureTypes=[\"TABLES\"])\n",
    "\n",
    "#print(response)\n",
    "\n",
    "doc = Document(response)\n",
    "\n",
    "for page in doc.pages:\n",
    "     # Print tables\n",
    "    for table in page.tables:\n",
    "        for r, row in enumerate(table.rows):\n",
    "            for c, cell in enumerate(row.cells):\n",
    "                print(\"Table[{}][{}] = {}\".format(r, c, cell.text))"
   ]
  },
  {
   "cell_type": "code",
   "execution_count": 1,
   "metadata": {},
   "outputs": [
    {
     "name": "stdout",
     "output_type": "stream",
     "text": [
      "Notebook end: 2021-01-20 14:01:11.243902\n"
     ]
    }
   ],
   "source": [
    "import datetime\n",
    "\n",
    "complete = datetime.datetime.now()\n",
    "print(f'Notebook end: {complete}')"
   ]
  },
  {
   "cell_type": "code",
   "execution_count": null,
   "metadata": {},
   "outputs": [],
   "source": []
  }
 ],
 "metadata": {
  "kernelspec": {
   "display_name": "Python 3",
   "language": "python",
   "name": "python3"
  },
  "language_info": {
   "codemirror_mode": {
    "name": "ipython",
    "version": 3
   },
   "file_extension": ".py",
   "mimetype": "text/x-python",
   "name": "python",
   "nbconvert_exporter": "python",
   "pygments_lexer": "ipython3",
   "version": "3.9.1"
  }
 },
 "nbformat": 4,
 "nbformat_minor": 4
}
