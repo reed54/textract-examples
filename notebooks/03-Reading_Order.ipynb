{
 "cells": [
  {
   "cell_type": "markdown",
   "metadata": {},
   "source": [
    "# Amazon Textract\n",
    "### Reading Order\n",
    "\n",
    "**Based on AWS Github Account:**  https://github.com/aws-samples  \n",
    "**File:** aws-samples/amazon-textractcode-samples/**03-reading-order.py**\n",
    "  \n",
    "James Reed, Centennial Data Science\n",
    "\n",
    "![Amazon](https://media.gettyimages.com/photos/closeup-of-sign-with-logo-on-facade-of-the-regional-headquarters-of-picture-id1065011338?s=2048x2048)\n",
    "\n",
    "#### Multi-Column Example\n",
    "\n",
    "![Readng Order](../data/two-column-image.jpg)"
   ]
  },
  {
   "cell_type": "code",
   "execution_count": 5,
   "metadata": {},
   "outputs": [
    {
     "name": "stdout",
     "output_type": "stream",
     "text": [
      "Working directory: /mnt/jdreed/code/Textxtract-Examples/notebooks\n"
     ]
    }
   ],
   "source": [
    "import os\n",
    "print(f'Working directory: {os.getcwd()}')"
   ]
  },
  {
   "cell_type": "code",
   "execution_count": 11,
   "metadata": {},
   "outputs": [
    {
     "name": "stderr",
     "output_type": "stream",
     "text": [
      "ic| documentName: 'two-column-image.jpg'\n",
      "ic| s3BucketName: 'jdreed-hadley'\n"
     ]
    }
   ],
   "source": [
    "import boto3\n",
    "from icecream import ic\n",
    "# Document\n",
    "s3BucketName = \"jdreed-hadley\"\n",
    "documentName = \"two-column-image.jpg\"\n",
    "ic(documentName)\n",
    "ic(s3BucketName)\n",
    "# Amazon Textract client\n",
    "textract = boto3.client('textract', region_name='us-west-2')\n",
    "\n",
    "# Call Amazon Textract\n",
    "response = textract.detect_document_text(\n",
    "    Document={\n",
    "        'S3Object': {\n",
    "            'Bucket': s3BucketName,\n",
    "            'Name': documentName\n",
    "        }\n",
    "    })\n",
    "\n",
    "#print(response)"
   ]
  },
  {
   "cell_type": "markdown",
   "metadata": {},
   "source": [
    "### Read Columns and Print in Reading Order\n",
    "#### Column #1, then Column #2"
   ]
  },
  {
   "cell_type": "code",
   "execution_count": 12,
   "metadata": {},
   "outputs": [
    {
     "name": "stdout",
     "output_type": "stream",
     "text": [
      "Extract data quickly &\n",
      "accurately\n",
      "Textract makes it easy to quickly and\n",
      "accurately extract data from\n",
      "documents and forms. Textract\n",
      "automatically detects a document's\n",
      "layout and the key elements on the\n",
      "page, understands the data\n",
      "relationships in any embedded forms\n",
      "or tables, and extracts everything\n",
      "with its context intact. This means\n",
      "you can instantly use the extracted\n",
      "data in an application or store it in a\n",
      "database without a lot of\n",
      "complicated code in between\n",
      "No code or templates to\n",
      "maintain\n",
      "Textract's pre-trained machine\n",
      "learning models eliminate the need\n",
      "to write code for data extraction,\n",
      "because they have already been\n",
      "trained on tens of millions of\n",
      "documents from virtually every\n",
      "industry, including invoices, receipts,\n",
      "contracts, tax documents, sales\n",
      "orders, enrollment forms, benefit\n",
      "applications, insurance claims, policy\n",
      "documents and many more. You no\n",
      "longer need to maintain code for\n",
      "every document or form you might\n",
      "receive or worry about how page\n",
      "layouts change over time.\n"
     ]
    }
   ],
   "source": [
    "# Detect columns and print lines\n",
    "columns = []\n",
    "lines = []\n",
    "for item in response[\"Blocks\"]:\n",
    "      if item[\"BlockType\"] == \"LINE\":\n",
    "        column_found=False\n",
    "        for index, column in enumerate(columns):\n",
    "            bbox_left = item[\"Geometry\"][\"BoundingBox\"][\"Left\"]\n",
    "            bbox_right = item[\"Geometry\"][\"BoundingBox\"][\"Left\"] + item[\"Geometry\"][\"BoundingBox\"][\"Width\"]\n",
    "            bbox_centre = item[\"Geometry\"][\"BoundingBox\"][\"Left\"] + item[\"Geometry\"][\"BoundingBox\"][\"Width\"]/2\n",
    "            column_centre = column['left'] + column['right']/2\n",
    "\n",
    "            if (bbox_centre > column['left'] and bbox_centre < column['right']) or (column_centre > bbox_left and column_centre < bbox_right):\n",
    "                #Bbox appears inside the column\n",
    "                lines.append([index, item[\"Text\"]])\n",
    "                column_found=True\n",
    "                break\n",
    "        if not column_found:\n",
    "            columns.append({'left':item[\"Geometry\"][\"BoundingBox\"][\"Left\"], 'right':item[\"Geometry\"][\"BoundingBox\"][\"Left\"] + item[\"Geometry\"][\"BoundingBox\"][\"Width\"]})\n",
    "            lines.append([len(columns)-1, item[\"Text\"]])\n",
    "\n",
    "lines.sort(key=lambda x: x[0])\n",
    "for line in lines:\n",
    "    print (line[1])"
   ]
  },
  {
   "cell_type": "code",
   "execution_count": 13,
   "metadata": {},
   "outputs": [
    {
     "name": "stdout",
     "output_type": "stream",
     "text": [
      "Notebook end: 2021-01-20 13:59:16.569254\n"
     ]
    }
   ],
   "source": [
    "import datetime\n",
    "\n",
    "complete = datetime.datetime.now()\n",
    "print(f'Notebook end: {complete}')"
   ]
  },
  {
   "cell_type": "code",
   "execution_count": null,
   "metadata": {},
   "outputs": [],
   "source": []
  }
 ],
 "metadata": {
  "kernelspec": {
   "display_name": "Python (py38)",
   "language": "python",
   "name": "py38"
  },
  "language_info": {
   "codemirror_mode": {
    "name": "ipython",
    "version": 3
   },
   "file_extension": ".py",
   "mimetype": "text/x-python",
   "name": "python",
   "nbconvert_exporter": "python",
   "pygments_lexer": "ipython3",
   "version": "3.8.5"
  }
 },
 "nbformat": 4,
 "nbformat_minor": 4
}
