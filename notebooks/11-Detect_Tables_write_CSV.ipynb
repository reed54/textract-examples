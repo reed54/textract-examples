{
 "cells": [
  {
   "cell_type": "markdown",
   "metadata": {},
   "source": [
    "# Amazon Textract\n",
    "## Detect Table and Write to CSV File.\n",
    "\n",
    "**Based on AWS Github Account:**  https://github.com/aws-samples  \n",
    "**File:** aws-samples/amazon-textractcode-samples/**10-tables.py**\n",
    "  \n",
    "James Reed, Centennial Data Science\n",
    "\n",
    "![Amazon](https://media.gettyimages.com/photos/closeup-of-sign-with-logo-on-facade-of-the-regional-headquarters-of-picture-id1065011338?s=2048x2048)\n",
    "\n",
    "Data is from Colorado Secretary of State Office, 1980 General Election Presidential votes by county.\n",
    "\n",
    "![Readng Order](../data/1980_presidential_abstract.png)"
   ]
  },
  {
   "cell_type": "code",
   "execution_count": 1,
   "metadata": {},
   "outputs": [],
   "source": [
    "# Copyright 2010-2019 Amazon.com, Inc. or its affiliates. All Rights Reserved.\n",
    "#\n",
    "# This file is licensed under the Apache License, Version 2.0 (the \"License\").\n",
    "# You may not use this file except in compliance with the License. A copy of the\n",
    "# License is located at\n",
    "#\n",
    "# http://aws.amazon.com/apache2.0/\n",
    "#\n",
    "# This file is distributed on an \"AS IS\" BASIS, WITHOUT WARRANTIES OR CONDITIONS\n",
    "# OF ANY KIND, either express or implied. See the License for the specific\n",
    "# language governing permissions and limitations under the License.\n",
    "\n",
    "import webbrowser\n",
    "import os\n",
    "import json\n",
    "import boto3\n",
    "import io\n",
    "from io import BytesIO\n",
    "import sys\n",
    "from pprint import pprint\n",
    "\n",
    "\n",
    "def get_rows_columns_map(table_result, blocks_map):\n",
    "    rows = {}\n",
    "    for relationship in table_result['Relationships']:\n",
    "        if relationship['Type'] == 'CHILD':\n",
    "            for child_id in relationship['Ids']:\n",
    "                cell = blocks_map[child_id]\n",
    "                if cell['BlockType'] == 'CELL':\n",
    "                    row_index = cell['RowIndex']\n",
    "                    col_index = cell['ColumnIndex']\n",
    "                    if row_index not in rows:\n",
    "                        # create new row\n",
    "                        rows[row_index] = {}\n",
    "\n",
    "                    # get the text value\n",
    "                    rows[row_index][col_index] = get_text(cell, blocks_map)\n",
    "    return rows\n",
    "\n",
    "\n",
    "def get_text(result, blocks_map):\n",
    "    text = ''\n",
    "    if 'Relationships' in result:\n",
    "        for relationship in result['Relationships']:\n",
    "            if relationship['Type'] == 'CHILD':\n",
    "                for child_id in relationship['Ids']:\n",
    "                    word = blocks_map[child_id]\n",
    "                    if word['BlockType'] == 'WORD':\n",
    "                        text += word['Text'] + ' '\n",
    "                    if word['BlockType'] == 'SELECTION_ELEMENT':\n",
    "                        if word['SelectionStatus'] == 'SELECTED':\n",
    "                            text += 'X '\n",
    "    return text\n",
    "\n",
    "\n",
    "def get_table_csv_results(file_name):\n",
    "\n",
    "    with open(file_name, 'rb') as file:\n",
    "        img_test = file.read()\n",
    "        bytes_test = bytearray(img_test)\n",
    "        print('Image loaded', file_name)\n",
    "\n",
    "    # process using image bytes\n",
    "    # get the results\n",
    "    client = boto3.client('textract')\n",
    "\n",
    "    response = client.analyze_document(\n",
    "        Document={'Bytes': bytes_test}, FeatureTypes=['TABLES'])\n",
    "\n",
    "    # Get the text blocks\n",
    "    blocks = response['Blocks']\n",
    "    #pprint(blocks)\n",
    "\n",
    "    blocks_map = {}\n",
    "    table_blocks = []\n",
    "    for block in blocks:\n",
    "        blocks_map[block['Id']] = block\n",
    "        if block['BlockType'] == \"TABLE\":\n",
    "            table_blocks.append(block)\n",
    "\n",
    "    if len(table_blocks) <= 0:\n",
    "        return \"<b> NO Table FOUND </b>\"\n",
    "\n",
    "    csv = ''\n",
    "    for index, table in enumerate(table_blocks):\n",
    "        csv += generate_table_csv(table, blocks_map, index + 1)\n",
    "        csv += '\\n\\n'\n",
    "\n",
    "    return csv\n",
    "\n",
    "\n",
    "def generate_table_csv(table_result, blocks_map, table_index):\n",
    "    rows = get_rows_columns_map(table_result, blocks_map)\n",
    "\n",
    "    table_id = 'Table_' + str(table_index)\n",
    "\n",
    "    # get cells.\n",
    "    csv = 'Table: {0}\\n\\n'.format(table_id)\n",
    "\n",
    "    for row_index, cols in rows.items():\n",
    "\n",
    "        for col_index, text in cols.items():\n",
    "            # Remove commas from text\n",
    "            text = text.replace(\",\", \"\")\n",
    "            csv += '{}'.format(text) + \",\"\n",
    "        csv += '\\n'\n",
    "\n",
    "    csv += '\\n\\n\\n'\n",
    "    return csv"
   ]
  },
  {
   "cell_type": "code",
   "execution_count": 2,
   "metadata": {},
   "outputs": [
    {
     "name": "stdout",
     "output_type": "stream",
     "text": [
      "Image loaded ../data/1980_presidential_abstract.png\n",
      "CSV OUTPUT FILE:  output.csv\n"
     ]
    }
   ],
   "source": [
    "def main(file_name):\n",
    "    table_csv = get_table_csv_results(file_name)\n",
    "\n",
    "    output_file = 'output.csv'\n",
    "\n",
    "    # replace content\n",
    "    with open(output_file, \"wt\") as fout:\n",
    "        fout.write(table_csv)\n",
    "\n",
    "    # show the results\n",
    "    print('CSV OUTPUT FILE: ', output_file)\n",
    "\n",
    "\n",
    "if __name__ == \"__main__\":\n",
    "    file_name = \"../data/1980_presidential_abstract.png\"\n",
    "    main(file_name)"
   ]
  },
  {
   "cell_type": "code",
   "execution_count": 3,
   "metadata": {},
   "outputs": [
    {
     "name": "stdout",
     "output_type": "stream",
     "text": [
      "Table: Table_1\n",
      "\n",
      ",# REG ,# VOTE ,1 ,2 ,3 ,4 ,5 ,6 ,7 ,8 ,TOTAL ,NO VOTE ,% NO VT ,\n",
      "ADAMS ,105002 ,88261 ,31357 ,42916 ,8342 ,102 ,2044 ,171 ,20 ,23 ,34975 ,3306 ,3.7 ,\n",
      "ALAMOSA ,6017 ,4975 ,1821 ,2601 ,289 ,,96 ,19 ,,2 ,4828 ,147 ,2.9 ,\n",
      "ARAPAHOE ,-147199 ,130030 ,30148 ,79594 ,15329 ,254 ,2307 ,284 ,24 ,40 ,27930 ,2050 ,1.5 ,\n",
      "ARCHULETA ,2490 ,2000 ,532 ,1252 ,83 ,,30 ,3 ,,,1900 ,100 ,5.0 ,\n",
      "BACA ,3256 ,2785 ,551 ,1999 ,106 ,,35 ,1 ,,,2692 ,93 ,3.3 ,\n",
      "BENT ,2857 ,2401 ,894 ,1206 ,164 ,13 ,42 ,5 ,2 ,4 ,2330 ,71 ,2.9 ,\n",
      "BOULDER ,110429 ,93276 ,28422 ,40698 ,13712 ,43 ,2630 ,1449 ,60 ,55 ,87069 ,6207 ,6.6 ,\n"
     ]
    }
   ],
   "source": [
    "!head output.csv"
   ]
  },
  {
   "cell_type": "code",
   "execution_count": 1,
   "metadata": {},
   "outputs": [
    {
     "name": "stdout",
     "output_type": "stream",
     "text": [
      "Notebook end: 2021-01-20 14:01:27.674922\n"
     ]
    }
   ],
   "source": [
    "import datetime\n",
    "\n",
    "complete = datetime.datetime.now()\n",
    "print(f'Notebook end: {complete}')"
   ]
  },
  {
   "cell_type": "code",
   "execution_count": null,
   "metadata": {},
   "outputs": [],
   "source": []
  }
 ],
 "metadata": {
  "kernelspec": {
   "display_name": "Python 3",
   "language": "python",
   "name": "python3"
  },
  "language_info": {
   "codemirror_mode": {
    "name": "ipython",
    "version": 3
   },
   "file_extension": ".py",
   "mimetype": "text/x-python",
   "name": "python",
   "nbconvert_exporter": "python",
   "pygments_lexer": "ipython3",
<<<<<<< HEAD
   "version": "3.8.3"
=======
   "version": "3.9.1"
>>>>>>> 542c10645efaca72820ded00a98d0ec4501a5beb
  }
 },
 "nbformat": 4,
 "nbformat_minor": 4
}
