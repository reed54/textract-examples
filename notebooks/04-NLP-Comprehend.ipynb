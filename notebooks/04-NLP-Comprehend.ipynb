{
 "cells": [
  {
   "cell_type": "markdown",
   "metadata": {},
   "source": [
    "# Amazon Textract\n",
    "## Natural Language Processsing of Medical Notes\n",
    "\n",
    "**Based on AWS Github Account:**  https://github.com/aws-samples  \n",
    "**File:** aws-samples/amazon-textractcode-samples/**05-nlp-medical.py**\n",
    "\n",
    "![Amazon](https://media.gettyimages.com/photos/closeup-of-sign-with-logo-on-facade-of-the-regional-headquarters-of-picture-id1065011338?s=2048x2048)\n",
    "\n",
    "#### Patient Medical Notes\n",
    "\n",
    "![Patient Notes](../data/medical-notes.png)"
   ]
  },
  {
   "cell_type": "markdown",
   "metadata": {},
   "source": [
    "### Retrieve Document From S3\n",
    "\n",
    "### Detect Text within the document"
   ]
  },
  {
   "cell_type": "code",
   "execution_count": 1,
   "metadata": {},
   "outputs": [],
   "source": [
    "import boto3\n",
    "from icecream import ic\n",
    "\n",
    "# Document\n",
    "s3BucketName = \"jdreed-hadley\"\n",
    "documentName = \"medical-notes.png\"\n",
    "\n",
    "# Amazon Textract client\n",
    "textract = boto3.client('textract')\n",
    "\n",
    "# Call Amazon Textract\n",
    "response = textract.detect_document_text(\n",
    "    Document={\n",
    "        'S3Object': {\n",
    "            'Bucket': s3BucketName,\n",
    "            'Name': documentName\n",
    "        }\n",
    "    })\n",
    "\n",
    "#print(response)"
   ]
  },
  {
   "cell_type": "markdown",
   "metadata": {},
   "source": [
    "### Display the note as they are found in the document."
   ]
  },
  {
   "cell_type": "code",
   "execution_count": 2,
   "metadata": {},
   "outputs": [
    {
     "name": "stdout",
     "output_type": "stream",
     "text": [
      "\n",
      "Text\n",
      "========\n",
      "\u001b[94mPatient visit notes\u001b[0m\n",
      "\u001b[94mPt is 40yo mother, high school teacher\u001b[0m\n",
      "\u001b[94mHPI : Sleeping trouble on present dosage of Clonidine.\u001b[0m\n",
      "\u001b[94mSevere Rash on face and leg, slightly itchy\u001b[0m\n",
      "\u001b[94mMeds : Vyvanse 50 mgs po at breakfast daily,\u001b[0m\n",
      "\u001b[94mClonidine 0.2 mgs -- 1 and 1 / 2 tabs po qhs\u001b[0m\n",
      "\u001b[94mHEENT : Boggy inferior turbinates, No oropharyngeal lesion\u001b[0m\n",
      "\u001b[94mLungs : clear\u001b[0m\n",
      "\u001b[94mHeart : Regular rhythm\u001b[0m\n",
      "\u001b[94mSkin : Mild erythematous eruption to hairline\u001b[0m\n",
      "\u001b[94mFollow-up as scheduled\u001b[0m\n"
     ]
    }
   ],
   "source": [
    "# Print text\n",
    "print(\"\\nText\\n========\")\n",
    "text = \"\"\n",
    "for item in response[\"Blocks\"]:\n",
    "    if item[\"BlockType\"] == \"LINE\":\n",
    "        print ('\\033[94m' +  item[\"Text\"] + '\\033[0m')\n",
    "        text = text + \" \" + item[\"Text\"]"
   ]
  },
  {
   "cell_type": "markdown",
   "metadata": {},
   "source": [
    "### \"Comprehend\" these medical notes using NLP"
   ]
  },
  {
   "cell_type": "code",
   "execution_count": 3,
   "metadata": {},
   "outputs": [
    {
     "name": "stdout",
     "output_type": "stream",
     "text": [
      "\n",
      "Medical Entities\n",
      "========\n",
      "- 40yo\n",
      "   Type: AGE\n",
      "   Category: PROTECTED_HEALTH_INFORMATION\n",
      "\n",
      "\n",
      "- Sleeping trouble\n",
      "   Type: DX_NAME\n",
      "   Category: MEDICAL_CONDITION\n",
      "   Traits:\n",
      "    - SYMPTOM\n",
      "\n",
      "\n",
      "- Clonidine\n",
      "   Type: GENERIC_NAME\n",
      "   Category: MEDICATION\n",
      "\n",
      "\n",
      "- Rash\n",
      "   Type: DX_NAME\n",
      "   Category: MEDICAL_CONDITION\n",
      "   Traits:\n",
      "    - SYMPTOM\n",
      "\n",
      "\n",
      "- face\n",
      "   Type: SYSTEM_ORGAN_SITE\n",
      "   Category: ANATOMY\n",
      "\n",
      "\n",
      "- leg\n",
      "   Type: SYSTEM_ORGAN_SITE\n",
      "   Category: ANATOMY\n",
      "\n",
      "\n",
      "- Vyvanse\n",
      "   Type: BRAND_NAME\n",
      "   Category: MEDICATION\n",
      "\n",
      "\n",
      "- Clonidine\n",
      "   Type: GENERIC_NAME\n",
      "   Category: MEDICATION\n",
      "\n",
      "\n",
      "- HEENT\n",
      "   Type: SYSTEM_ORGAN_SITE\n",
      "   Category: ANATOMY\n",
      "\n",
      "\n",
      "- Boggy inferior turbinates\n",
      "   Type: DX_NAME\n",
      "   Category: MEDICAL_CONDITION\n",
      "   Traits:\n",
      "    - SIGN\n",
      "\n",
      "\n",
      "- inferior\n",
      "   Type: DIRECTION\n",
      "   Category: ANATOMY\n",
      "\n",
      "\n",
      "- turbinates\n",
      "   Type: SYSTEM_ORGAN_SITE\n",
      "   Category: ANATOMY\n",
      "\n",
      "\n",
      "- oropharyngeal lesion\n",
      "   Type: DX_NAME\n",
      "   Category: MEDICAL_CONDITION\n",
      "   Traits:\n",
      "    - SIGN\n",
      "    - NEGATION\n",
      "\n",
      "\n",
      "- Lungs\n",
      "   Type: SYSTEM_ORGAN_SITE\n",
      "   Category: ANATOMY\n",
      "\n",
      "\n",
      "- clear Heart\n",
      "   Type: DX_NAME\n",
      "   Category: MEDICAL_CONDITION\n",
      "   Traits:\n",
      "    - SIGN\n",
      "\n",
      "\n",
      "- Heart\n",
      "   Type: SYSTEM_ORGAN_SITE\n",
      "   Category: ANATOMY\n",
      "\n",
      "\n",
      "- Regular rhythm\n",
      "   Type: DX_NAME\n",
      "   Category: MEDICAL_CONDITION\n",
      "   Traits:\n",
      "    - SIGN\n",
      "\n",
      "\n",
      "- Skin\n",
      "   Type: SYSTEM_ORGAN_SITE\n",
      "   Category: ANATOMY\n",
      "\n",
      "\n",
      "- erythematous eruption\n",
      "   Type: DX_NAME\n",
      "   Category: MEDICAL_CONDITION\n",
      "   Traits:\n",
      "    - SIGN\n",
      "\n",
      "\n",
      "- hairline\n",
      "   Type: SYSTEM_ORGAN_SITE\n",
      "   Category: ANATOMY\n",
      "\n",
      "\n"
     ]
    }
   ],
   "source": [
    "# Amazon Comprehend client\n",
    "comprehend = boto3.client('comprehendmedical')\n",
    "\n",
    "# Detect medical entities\n",
    "entities =  comprehend.detect_entities(Text=text)\n",
    "print(\"\\nMedical Entities\\n========\")\n",
    "for entity in entities[\"Entities\"]:\n",
    "    print(\"- {}\".format(entity[\"Text\"]))\n",
    "    print (\"   Type: {}\".format(entity[\"Type\"]))\n",
    "    print (\"   Category: {}\".format(entity[\"Category\"]))\n",
    "    if(entity[\"Traits\"]):\n",
    "        print(\"   Traits:\")\n",
    "        for trait in entity[\"Traits\"]:\n",
    "            print (\"    - {}\".format(trait[\"Name\"]))\n",
    "    print(\"\\n\")\n",
    "    "
   ]
  },
  {
   "cell_type": "code",
   "execution_count": 4,
   "metadata": {},
   "outputs": [
    {
     "name": "stdout",
     "output_type": "stream",
     "text": [
      "Notebook end: 2021-01-20 13:59:31.865007\n"
     ]
    }
   ],
   "source": [
    "import datetime\n",
    "\n",
    "complete = datetime.datetime.now()\n",
    "print(f'Notebook end: {complete}')"
   ]
  },
  {
   "cell_type": "code",
   "execution_count": null,
   "metadata": {},
   "outputs": [],
   "source": []
  }
 ],
 "metadata": {
  "kernelspec": {
   "display_name": "Python (py38)",
   "language": "python",
   "name": "py38"
  },
  "language_info": {
   "codemirror_mode": {
    "name": "ipython",
    "version": 3
   },
   "file_extension": ".py",
   "mimetype": "text/x-python",
   "name": "python",
   "nbconvert_exporter": "python",
   "pygments_lexer": "ipython3",
   "version": "3.8.5"
  }
 },
 "nbformat": 4,
 "nbformat_minor": 4
}
