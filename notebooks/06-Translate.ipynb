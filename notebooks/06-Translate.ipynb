{
 "cells": [
  {
   "cell_type": "markdown",
   "metadata": {},
   "source": [
    "# Amazon Textract\n",
    "### Translation\n",
    "\n",
    "**Based on AWS Github Account:**  https://github.com/aws-samples  \n",
    "**File:** aws-samples/amazon-textractcode-samples/**06-translate.py**\n",
    "\n",
    "![Amazon](https://media.gettyimages.com/photos/closeup-of-sign-with-logo-on-facade-of-the-regional-headquarters-of-picture-id1065011338?s=2048x2048)\n",
    "The image we are using is displayed below.\n",
    "\n",
    "![Simple Document Image](../data/simple-document-image.jpg)\n"
   ]
  },
  {
   "cell_type": "markdown",
   "metadata": {},
   "source": [
    "### Retrieve Image from S3 Bucket\n",
    "\n",
    "Read the image using Amazon Textract client."
   ]
  },
  {
   "cell_type": "code",
   "execution_count": 1,
   "metadata": {},
   "outputs": [],
   "source": [
    "import boto3\n",
    "from icecream import ic\n",
    "# Documenta\n",
    "s3BucketName = \"jdreed-hadley\"\n",
    "documentName = \"simple-document-image.jpg\"\n",
    "\n",
    "# Amazon Textract client\n",
    "textract = boto3.client('textract')\n",
    "\n",
    "# Call Amazon Textract\n",
    "response = textract.detect_document_text(\n",
    "    Document={\n",
    "        'S3Object': {\n",
    "            'Bucket': s3BucketName,\n",
    "            'Name': documentName\n",
    "        }\n",
    "    })\n",
    "\n",
    "#print(response)"
   ]
  },
  {
   "cell_type": "markdown",
   "metadata": {},
   "source": [
    "### Translate Text found in Image from English to German"
   ]
  },
  {
   "cell_type": "code",
   "execution_count": 4,
   "metadata": {},
   "outputs": [
    {
     "name": "stdout",
     "output_type": "stream",
     "text": [
      "\n",
      "\n",
      "\u001b[94mAmazon.com, Inc. is located in Seattle, WA\u001b[0m\n",
      "\u001b[92mAmazon.com, Inc. befindet sich in Seattle, WA\u001b[0m\n",
      "\n",
      "\u001b[94mIt was founded July 5th, 1994 by Jeff Bezos\u001b[0m\n",
      "\u001b[92mEs wurde am 5. Juli 1994 von Jeff Bezos gegründet\u001b[0m\n",
      "\n",
      "\u001b[94mAmazon.com allows customers to buy everything from books to blenders\u001b[0m\n",
      "\u001b[92mAmazon.com ermöglicht es Kunden, alles von Büchern bis hin zu Mixern zu kaufen\u001b[0m\n",
      "\n",
      "\u001b[94mSeattle is north of Portland and south of Vancouver, BC.\u001b[0m\n",
      "\u001b[92mSeattle ist nördlich von Portland und südlich von Vancouver, BC.\u001b[0m\n",
      "\n",
      "\n",
      "\n",
      "\n",
      "\n",
      "\n",
      "\n",
      "\n",
      "\n",
      "\n",
      "\n",
      "\n",
      "\n",
      "\n",
      "\n",
      "\n",
      "\n",
      "\n",
      "\n",
      "\n",
      "\n",
      "\n",
      "\n",
      "\n",
      "\n",
      "\n",
      "\n",
      "\n",
      "\n",
      "\n",
      "\n",
      "\n",
      "\n",
      "\n",
      "\n",
      "\n",
      "\n"
     ]
    }
   ],
   "source": [
    "# Amazon Translate client\n",
    "translate = boto3.client('translate')\n",
    "\n",
    "print ('')\n",
    "for item in response[\"Blocks\"]:\n",
    "    if item[\"BlockType\"] == \"LINE\":\n",
    "        #ic(item[\"Text\"])\n",
    "        print ('\\033[94m' +  item[\"Text\"] + '\\033[0m')\n",
    "        result = translate.translate_text(Text=item[\"Text\"], SourceLanguageCode=\"en\", TargetLanguageCode=\"de\")\n",
    "        print ('\\033[92m' + result.get('TranslatedText') + '\\033[0m')\n",
    "    print ('')"
   ]
  },
  {
   "cell_type": "code",
   "execution_count": null,
   "metadata": {},
   "outputs": [],
   "source": []
  },
  {
   "cell_type": "code",
   "execution_count": null,
   "metadata": {},
   "outputs": [],
   "source": []
  },
  {
   "cell_type": "code",
   "execution_count": null,
   "metadata": {},
   "outputs": [],
   "source": []
  },
  {
   "cell_type": "code",
   "execution_count": null,
   "metadata": {},
   "outputs": [],
   "source": []
  },
  {
   "cell_type": "code",
   "execution_count": null,
   "metadata": {},
   "outputs": [],
   "source": []
  }
 ],
 "metadata": {
  "kernelspec": {
   "display_name": "Python 3",
   "language": "python",
   "name": "python3"
  },
  "language_info": {
   "codemirror_mode": {
    "name": "ipython",
    "version": 3
   },
   "file_extension": ".py",
   "mimetype": "text/x-python",
   "name": "python",
   "nbconvert_exporter": "python",
   "pygments_lexer": "ipython3",
   "version": "3.8.6"
  }
 },
 "nbformat": 4,
 "nbformat_minor": 4
}
